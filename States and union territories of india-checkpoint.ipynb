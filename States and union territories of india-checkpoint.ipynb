{
 "cells": [
  {
   "cell_type": "markdown",
   "id": "ae53f9a0",
   "metadata": {},
   "source": [
    "### Let's import important territories\n"
   ]
  },
  {
   "cell_type": "code",
   "execution_count": 5,
   "id": "89e4575b",
   "metadata": {},
   "outputs": [],
   "source": [
    "from bs4 import BeautifulSoup\n",
    "import requests\n",
    "url=\"https://en.wikipedia.org/wiki/States_and_union_territories_of_India\"\n",
    "page=requests.get(url)\n",
    "soup=BeautifulSoup(page.content,'lxml')"
   ]
  },
  {
   "cell_type": "code",
   "execution_count": null,
   "id": "fd729f58",
   "metadata": {},
   "outputs": [],
   "source": []
  }
 ],
 "metadata": {
  "kernelspec": {
   "display_name": "Python 3 (ipykernel)",
   "language": "python",
   "name": "python3"
  },
  "language_info": {
   "codemirror_mode": {
    "name": "ipython",
    "version": 3
   },
   "file_extension": ".py",
   "mimetype": "text/x-python",
   "name": "python",
   "nbconvert_exporter": "python",
   "pygments_lexer": "ipython3",
   "version": "3.10.4"
  }
 },
 "nbformat": 4,
 "nbformat_minor": 5
}
